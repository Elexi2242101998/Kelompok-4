{
 "cells": [
  {
   "cell_type": "code",
   "execution_count": 3,
   "id": "0ad6714c",
   "metadata": {},
   "outputs": [
    {
     "name": "stdout",
     "output_type": "stream",
     "text": [
      "Requirement already satisfied: requests in c:\\users\\asus\\anaconda3\\lib\\site-packages (2.31.0)\n",
      "Requirement already satisfied: charset-normalizer<4,>=2 in c:\\users\\asus\\anaconda3\\lib\\site-packages (from requests) (2.0.4)\n",
      "Requirement already satisfied: idna<4,>=2.5 in c:\\users\\asus\\anaconda3\\lib\\site-packages (from requests) (3.4)\n",
      "Requirement already satisfied: urllib3<3,>=1.21.1 in c:\\users\\asus\\anaconda3\\lib\\site-packages (from requests) (1.26.16)\n",
      "Requirement already satisfied: certifi>=2017.4.17 in c:\\users\\asus\\anaconda3\\lib\\site-packages (from requests) (2023.7.22)\n",
      "Note: you may need to restart the kernel to use updated packages.\n"
     ]
    }
   ],
   "source": [
    "pip install requests"
   ]
  },
  {
   "cell_type": "code",
   "execution_count": 5,
   "id": "a2765825",
   "metadata": {},
   "outputs": [],
   "source": [
    "import numpy as np"
   ]
  },
  {
   "cell_type": "code",
   "execution_count": 6,
   "id": "faeca738",
   "metadata": {},
   "outputs": [],
   "source": [
    "import pandas as pd"
   ]
  },
  {
   "cell_type": "code",
   "execution_count": 7,
   "id": "188cd20a",
   "metadata": {},
   "outputs": [],
   "source": [
    "import os"
   ]
  },
  {
   "cell_type": "code",
   "execution_count": 9,
   "id": "f2662061",
   "metadata": {},
   "outputs": [
    {
     "name": "stdout",
     "output_type": "stream",
     "text": [
      "Collecting treelite\n",
      "  Downloading treelite-4.1.2-py3-none-win_amd64.whl.metadata (1.5 kB)\n",
      "Requirement already satisfied: numpy in c:\\users\\asus\\anaconda3\\lib\\site-packages (from treelite) (1.24.3)\n",
      "Requirement already satisfied: packaging in c:\\users\\asus\\anaconda3\\lib\\site-packages (from treelite) (23.1)\n",
      "Requirement already satisfied: scipy in c:\\users\\asus\\anaconda3\\lib\\site-packages (from treelite) (1.11.1)\n",
      "Downloading treelite-4.1.2-py3-none-win_amd64.whl (460 kB)\n",
      "   ---------------------------------------- 0.0/461.0 kB ? eta -:--:--\n",
      "    --------------------------------------- 10.2/461.0 kB ? eta -:--:--\n",
      "    --------------------------------------- 10.2/461.0 kB ? eta -:--:--\n",
      "   -- ------------------------------------ 30.7/461.0 kB 217.9 kB/s eta 0:00:02\n",
      "   --- ----------------------------------- 41.0/461.0 kB 195.7 kB/s eta 0:00:03\n",
      "   ----- --------------------------------- 61.4/461.0 kB 297.7 kB/s eta 0:00:02\n",
      "   ------ -------------------------------- 81.9/461.0 kB 305.0 kB/s eta 0:00:02\n",
      "   ---------- --------------------------- 122.9/461.0 kB 379.3 kB/s eta 0:00:01\n",
      "   -------------------- ----------------- 245.8/461.0 kB 684.7 kB/s eta 0:00:01\n",
      "   ---------------------------------------  460.8/461.0 kB 1.2 MB/s eta 0:00:01\n",
      "   ---------------------------------------- 461.0/461.0 kB 1.1 MB/s eta 0:00:00\n",
      "Installing collected packages: treelite\n",
      "Successfully installed treelite-4.1.2\n",
      "Note: you may need to restart the kernel to use updated packages.\n"
     ]
    }
   ],
   "source": [
    "pip install treelite"
   ]
  },
  {
   "cell_type": "code",
   "execution_count": 10,
   "id": "3f717bde",
   "metadata": {},
   "outputs": [],
   "source": [
    "import treelite"
   ]
  },
  {
   "cell_type": "code",
   "execution_count": 13,
   "id": "f564c3fe",
   "metadata": {},
   "outputs": [
    {
     "name": "stdout",
     "output_type": "stream",
     "text": [
      "Requirement already satisfied: treelite in c:\\users\\asus\\anaconda3\\lib\\site-packages (4.1.2)\n",
      "Requirement already satisfied: numpy in c:\\users\\asus\\anaconda3\\lib\\site-packages (from treelite) (1.24.3)\n",
      "Requirement already satisfied: packaging in c:\\users\\asus\\anaconda3\\lib\\site-packages (from treelite) (23.1)\n",
      "Requirement already satisfied: scipy in c:\\users\\asus\\anaconda3\\lib\\site-packages (from treelite) (1.11.1)\n",
      "Note: you may need to restart the kernel to use updated packages.\n"
     ]
    }
   ],
   "source": [
    "pip install --upgrade treelite"
   ]
  },
  {
   "cell_type": "code",
   "execution_count": null,
   "id": "faaeaa5e",
   "metadata": {},
   "outputs": [],
   "source": []
  }
 ],
 "metadata": {
  "kernelspec": {
   "display_name": "Python 3 (ipykernel)",
   "language": "python",
   "name": "python3"
  },
  "language_info": {
   "codemirror_mode": {
    "name": "ipython",
    "version": 3
   },
   "file_extension": ".py",
   "mimetype": "text/x-python",
   "name": "python",
   "nbconvert_exporter": "python",
   "pygments_lexer": "ipython3",
   "version": "3.11.5"
  }
 },
 "nbformat": 4,
 "nbformat_minor": 5
}
